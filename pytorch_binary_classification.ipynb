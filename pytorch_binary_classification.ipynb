{
 "cells": [
  {
   "cell_type": "markdown",
   "metadata": {},
   "source": [
    "<h1>Predict True or False if the keypoints makes a human figure</h1>"
   ]
  },
  {
   "cell_type": "markdown",
   "metadata": {},
   "source": [
    "<h3>Imports</h3>"
   ]
  },
  {
   "cell_type": "code",
   "execution_count": 54,
   "metadata": {},
   "outputs": [],
   "source": [
    "import pandas as pd \n",
    "import numpy as np \n",
    "import cv2\n",
    "import matplotlib.pyplot as plt\n",
    "import torch\n",
    "from torch import nn\n",
    "from torch.utils.data import DataLoader, TensorDataset\n",
    "import torch.optim as optim\n",
    "import torchmetrics\n",
    "from sklearn.model_selection import train_test_split"
   ]
  },
  {
   "cell_type": "markdown",
   "metadata": {},
   "source": [
    "<h3>Data Loading</h3>"
   ]
  },
  {
   "cell_type": "code",
   "execution_count": 2,
   "metadata": {},
   "outputs": [
    {
     "data": {
      "text/html": [
       "<div>\n",
       "<style scoped>\n",
       "    .dataframe tbody tr th:only-of-type {\n",
       "        vertical-align: middle;\n",
       "    }\n",
       "\n",
       "    .dataframe tbody tr th {\n",
       "        vertical-align: top;\n",
       "    }\n",
       "\n",
       "    .dataframe thead th {\n",
       "        text-align: right;\n",
       "    }\n",
       "</style>\n",
       "<table border=\"1\" class=\"dataframe\">\n",
       "  <thead>\n",
       "    <tr style=\"text-align: right;\">\n",
       "      <th></th>\n",
       "      <th>label</th>\n",
       "      <th>head_x</th>\n",
       "      <th>head_y</th>\n",
       "      <th>left_shoulder_x</th>\n",
       "      <th>left_shoulder_y</th>\n",
       "      <th>right_shoulder_x</th>\n",
       "      <th>right_shoulder_y</th>\n",
       "      <th>left_elbow_x</th>\n",
       "      <th>left_elbow_y</th>\n",
       "      <th>right_elbow_x</th>\n",
       "      <th>...</th>\n",
       "      <th>right_hip_x</th>\n",
       "      <th>right_hip_y</th>\n",
       "      <th>left_knee_x</th>\n",
       "      <th>left_knee_y</th>\n",
       "      <th>right_knee_x</th>\n",
       "      <th>right_knee_y</th>\n",
       "      <th>left_ankle_x</th>\n",
       "      <th>left_ankle_y</th>\n",
       "      <th>right_ankle_x</th>\n",
       "      <th>right_ankle_y</th>\n",
       "    </tr>\n",
       "  </thead>\n",
       "  <tbody>\n",
       "    <tr>\n",
       "      <th>0</th>\n",
       "      <td>True</td>\n",
       "      <td>240.500559</td>\n",
       "      <td>85.183148</td>\n",
       "      <td>195.716557</td>\n",
       "      <td>156.683877</td>\n",
       "      <td>299.248962</td>\n",
       "      <td>164.531874</td>\n",
       "      <td>187.337512</td>\n",
       "      <td>179.991048</td>\n",
       "      <td>306.974952</td>\n",
       "      <td>...</td>\n",
       "      <td>288.583761</td>\n",
       "      <td>311.323783</td>\n",
       "      <td>216.606421</td>\n",
       "      <td>399.107787</td>\n",
       "      <td>296.439782</td>\n",
       "      <td>397.644581</td>\n",
       "      <td>199.204957</td>\n",
       "      <td>493.226067</td>\n",
       "      <td>306.906930</td>\n",
       "      <td>497.484215</td>\n",
       "    </tr>\n",
       "    <tr>\n",
       "      <th>1</th>\n",
       "      <td>False</td>\n",
       "      <td>201.841402</td>\n",
       "      <td>124.894075</td>\n",
       "      <td>178.729435</td>\n",
       "      <td>131.932138</td>\n",
       "      <td>291.446801</td>\n",
       "      <td>207.304203</td>\n",
       "      <td>229.382600</td>\n",
       "      <td>198.435965</td>\n",
       "      <td>246.279427</td>\n",
       "      <td>...</td>\n",
       "      <td>286.109122</td>\n",
       "      <td>247.173054</td>\n",
       "      <td>137.740705</td>\n",
       "      <td>385.958958</td>\n",
       "      <td>267.464251</td>\n",
       "      <td>443.406363</td>\n",
       "      <td>257.896089</td>\n",
       "      <td>458.535632</td>\n",
       "      <td>261.136046</td>\n",
       "      <td>439.355304</td>\n",
       "    </tr>\n",
       "    <tr>\n",
       "      <th>2</th>\n",
       "      <td>True</td>\n",
       "      <td>259.978617</td>\n",
       "      <td>78.683620</td>\n",
       "      <td>200.490441</td>\n",
       "      <td>167.050014</td>\n",
       "      <td>320.194094</td>\n",
       "      <td>135.924078</td>\n",
       "      <td>178.438036</td>\n",
       "      <td>205.578941</td>\n",
       "      <td>319.493074</td>\n",
       "      <td>...</td>\n",
       "      <td>280.596345</td>\n",
       "      <td>290.100207</td>\n",
       "      <td>207.328399</td>\n",
       "      <td>409.183797</td>\n",
       "      <td>305.853671</td>\n",
       "      <td>407.266601</td>\n",
       "      <td>214.605122</td>\n",
       "      <td>504.378187</td>\n",
       "      <td>311.688375</td>\n",
       "      <td>498.851795</td>\n",
       "    </tr>\n",
       "    <tr>\n",
       "      <th>3</th>\n",
       "      <td>False</td>\n",
       "      <td>258.375514</td>\n",
       "      <td>155.753934</td>\n",
       "      <td>282.675073</td>\n",
       "      <td>212.995371</td>\n",
       "      <td>300.949045</td>\n",
       "      <td>232.212687</td>\n",
       "      <td>198.877240</td>\n",
       "      <td>353.738290</td>\n",
       "      <td>313.514863</td>\n",
       "      <td>...</td>\n",
       "      <td>264.883632</td>\n",
       "      <td>309.761761</td>\n",
       "      <td>107.352101</td>\n",
       "      <td>438.606151</td>\n",
       "      <td>318.370386</td>\n",
       "      <td>345.648371</td>\n",
       "      <td>250.241387</td>\n",
       "      <td>599.670955</td>\n",
       "      <td>274.235694</td>\n",
       "      <td>493.347026</td>\n",
       "    </tr>\n",
       "    <tr>\n",
       "      <th>4</th>\n",
       "      <td>True</td>\n",
       "      <td>244.427543</td>\n",
       "      <td>77.570950</td>\n",
       "      <td>202.441213</td>\n",
       "      <td>155.809494</td>\n",
       "      <td>301.347111</td>\n",
       "      <td>140.021596</td>\n",
       "      <td>178.519725</td>\n",
       "      <td>194.275375</td>\n",
       "      <td>312.954924</td>\n",
       "      <td>...</td>\n",
       "      <td>290.239627</td>\n",
       "      <td>289.878072</td>\n",
       "      <td>220.442557</td>\n",
       "      <td>407.704236</td>\n",
       "      <td>295.792189</td>\n",
       "      <td>396.938297</td>\n",
       "      <td>218.037550</td>\n",
       "      <td>503.256533</td>\n",
       "      <td>313.782626</td>\n",
       "      <td>509.867995</td>\n",
       "    </tr>\n",
       "  </tbody>\n",
       "</table>\n",
       "<p>5 rows × 27 columns</p>\n",
       "</div>"
      ],
      "text/plain": [
       "   label      head_x      head_y  left_shoulder_x  left_shoulder_y  \\\n",
       "0   True  240.500559   85.183148       195.716557       156.683877   \n",
       "1  False  201.841402  124.894075       178.729435       131.932138   \n",
       "2   True  259.978617   78.683620       200.490441       167.050014   \n",
       "3  False  258.375514  155.753934       282.675073       212.995371   \n",
       "4   True  244.427543   77.570950       202.441213       155.809494   \n",
       "\n",
       "   right_shoulder_x  right_shoulder_y  left_elbow_x  left_elbow_y  \\\n",
       "0        299.248962        164.531874    187.337512    179.991048   \n",
       "1        291.446801        207.304203    229.382600    198.435965   \n",
       "2        320.194094        135.924078    178.438036    205.578941   \n",
       "3        300.949045        232.212687    198.877240    353.738290   \n",
       "4        301.347111        140.021596    178.519725    194.275375   \n",
       "\n",
       "   right_elbow_x  ...  right_hip_x  right_hip_y  left_knee_x  left_knee_y  \\\n",
       "0     306.974952  ...   288.583761   311.323783   216.606421   399.107787   \n",
       "1     246.279427  ...   286.109122   247.173054   137.740705   385.958958   \n",
       "2     319.493074  ...   280.596345   290.100207   207.328399   409.183797   \n",
       "3     313.514863  ...   264.883632   309.761761   107.352101   438.606151   \n",
       "4     312.954924  ...   290.239627   289.878072   220.442557   407.704236   \n",
       "\n",
       "   right_knee_x  right_knee_y  left_ankle_x  left_ankle_y  right_ankle_x  \\\n",
       "0    296.439782    397.644581    199.204957    493.226067     306.906930   \n",
       "1    267.464251    443.406363    257.896089    458.535632     261.136046   \n",
       "2    305.853671    407.266601    214.605122    504.378187     311.688375   \n",
       "3    318.370386    345.648371    250.241387    599.670955     274.235694   \n",
       "4    295.792189    396.938297    218.037550    503.256533     313.782626   \n",
       "\n",
       "   right_ankle_y  \n",
       "0     497.484215  \n",
       "1     439.355304  \n",
       "2     498.851795  \n",
       "3     493.347026  \n",
       "4     509.867995  \n",
       "\n",
       "[5 rows x 27 columns]"
      ]
     },
     "execution_count": 2,
     "metadata": {},
     "output_type": "execute_result"
    }
   ],
   "source": [
    "human_keypoints = pd.read_csv(\"./human_keypoints_dataset.csv\")\n",
    "human_keypoints.head()"
   ]
  },
  {
   "cell_type": "markdown",
   "metadata": {},
   "source": [
    "<h3>Data Visualization</h3>"
   ]
  },
  {
   "cell_type": "code",
   "execution_count": 6,
   "metadata": {},
   "outputs": [
    {
     "data": {
      "image/png": "[encoded data removed]",
      "text/plain": [
       "<Figure size 640x480 with 1 Axes>"
      ]
     },
     "metadata": {},
     "output_type": "display_data"
    }
   ],
   "source": [
    "# visualize 2 samples from the dataset\n",
    "\n",
    "# make a blank image\n",
    "image_true = np.zeros((600, 600, 3), dtype = \"uint8\")\n",
    "image_false = np.zeros((600, 600, 3), dtype = \"uint8\")\n",
    "\n",
    "# function to draw keypoints\n",
    "def draw_keypoints(image, keypoints):\n",
    "    for i in range(0, len(keypoints), 2):\n",
    "        x, y = int(keypoints[i]), int(keypoints[i + 1])\n",
    "        cv2.circle(image, (x, y), 4, (0, 0, 255), -1)\n",
    "\n",
    "# show a true label for the keypoints being a human\n",
    "true_keypoints = human_keypoints.iloc[0][1:].values\n",
    "draw_keypoints(image_true, true_keypoints)\n",
    "plt.imshow(image_true)\n",
    "plt.show()"
   ]
  },
  {
   "cell_type": "code",
   "execution_count": 7,
   "metadata": {},
   "outputs": [
    {
     "data": {
      "image/png": "[encoded data removed]",
      "text/plain": [
       "<Figure size 640x480 with 1 Axes>"
      ]
     },
     "metadata": {},
     "output_type": "display_data"
    }
   ],
   "source": [
    "# show a false label for the keypoints NOT being a human\n",
    "false_keypoints = human_keypoints.iloc[1][1:].values\n",
    "draw_keypoints(image_false, false_keypoints)\n",
    "plt.imshow(image_false)\n",
    "plt.show()"
   ]
  },
  {
   "cell_type": "markdown",
   "metadata": {},
   "source": [
    "<h3>Data Preprocessing</h3>"
   ]
  },
  {
   "cell_type": "code",
   "execution_count": 12,
   "metadata": {},
   "outputs": [
    {
     "name": "stdout",
     "output_type": "stream",
     "text": [
      "Number of Null values in dataset is: 0\n"
     ]
    }
   ],
   "source": [
    "# check for NaN values\n",
    "print(f\"Number of Null values in dataset is: {human_keypoints.isna().sum().sum()}\")"
   ]
  },
  {
   "cell_type": "code",
   "execution_count": 49,
   "metadata": {},
   "outputs": [],
   "source": [
    "# split features from target\n",
    "X = human_keypoints.drop('label', axis = 1)\n",
    "y = human_keypoints['label']\n",
    "\n",
    "# convert data into tensors\n",
    "X_tensor, y_tensor = torch.tensor(X.values, dtype = torch.float32), torch.tensor(y.values, dtype = torch.float32).view(-1, 1)\n",
    "\n",
    "# split the data in train and validation sets\n",
    "X_train_tensor, X_test_tensor, y_train_tensor, y_test_tensor = train_test_split(X_tensor, y_tensor, test_size = 0.2, random_state = 42)\n",
    "\n",
    "# datasets \n",
    "train_dataset = TensorDataset(X_train_tensor, y_train_tensor)\n",
    "test_dataset = TensorDataset(X_test_tensor, y_test_tensor)\n",
    "\n",
    "# dataloaders\n",
    "train_loader = DataLoader(train_dataset, batch_size = 32, shuffle = True)\n",
    "test_loader = DataLoader(test_dataset, batch_size = 32, shuffle = True)"
   ]
  },
  {
   "cell_type": "markdown",
   "metadata": {},
   "source": [
    "<h3>Model training, prediction and validation</h3>"
   ]
  },
  {
   "cell_type": "code",
   "execution_count": 27,
   "metadata": {},
   "outputs": [],
   "source": [
    "# define number of features\n",
    "n_features = X.shape[1]"
   ]
  },
  {
   "cell_type": "code",
   "execution_count": 28,
   "metadata": {},
   "outputs": [
    {
     "name": "stdout",
     "output_type": "stream",
     "text": [
      "Sequential(\n",
      "  (0): Linear(in_features=26, out_features=10, bias=True)\n",
      "  (1): ReLU()\n",
      "  (2): Linear(in_features=10, out_features=5, bias=True)\n",
      "  (3): ReLU()\n",
      "  (4): Linear(in_features=5, out_features=1, bias=True)\n",
      "  (5): Sigmoid()\n",
      ")\n"
     ]
    }
   ],
   "source": [
    "model = nn.Sequential(\n",
    "    nn.Linear(n_features, 10),\n",
    "    nn.ReLU(),\n",
    "    nn.Linear(10, 5),\n",
    "    nn.ReLU(),\n",
    "    nn.Linear(5, 1),\n",
    "    nn.Sigmoid()\n",
    ")\n",
    "print(model)"
   ]
  },
  {
   "cell_type": "code",
   "execution_count": 52,
   "metadata": {},
   "outputs": [
    {
     "name": "stdout",
     "output_type": "stream",
     "text": [
      "Epoch 1 / 10, Loss: 0.0751\n",
      "Epoch 2 / 10, Loss: 0.0213\n",
      "Epoch 3 / 10, Loss: 0.0196\n",
      "Epoch 4 / 10, Loss: 0.0194\n",
      "Epoch 5 / 10, Loss: 0.0188\n",
      "Epoch 6 / 10, Loss: 0.0184\n",
      "Epoch 7 / 10, Loss: 0.0164\n",
      "Epoch 8 / 10, Loss: 0.0154\n",
      "Epoch 9 / 10, Loss: 0.0152\n",
      "Epoch 10 / 10, Loss: 0.0152\n"
     ]
    }
   ],
   "source": [
    "# loss function\n",
    "criterion = nn.BCELoss()\n",
    "\n",
    "# optimizer\n",
    "optimizer = optim.Adam(model.parameters(), lr = 0.001)\n",
    "\n",
    "# train the model\n",
    "num_epochs = 10\n",
    "for epoch in range(num_epochs):\n",
    "    model.train()\n",
    "    running_loss = 0.0\n",
    "\n",
    "    for inputs, label in train_loader:\n",
    "        \n",
    "        optimizer.zero_grad()\n",
    "        \n",
    "        outputs = model(inputs)\n",
    "        \n",
    "        loss = criterion(outputs, label)\n",
    "\n",
    "        loss.backward()\n",
    "\n",
    "        optimizer.step()\n",
    "\n",
    "        running_loss += loss.item()\n",
    "\n",
    "    epoch_loss = running_loss / len(train_loader.dataset)\n",
    "    print(f\"Epoch {epoch + 1} / {num_epochs}, Loss: {epoch_loss:.4f}\")"
   ]
  },
  {
   "cell_type": "code",
   "execution_count": 62,
   "metadata": {},
   "outputs": [
    {
     "name": "stdout",
     "output_type": "stream",
     "text": [
      "Accuracy on test data: 0.7700\n"
     ]
    }
   ],
   "source": [
    "# evaluate the model\n",
    "\n",
    "model.eval()\n",
    "\n",
    "metric = torchmetrics.Accuracy(task=\"binary\")\n",
    "\n",
    "with torch.no_grad():\n",
    "    for features, labels in test_loader:\n",
    "        outputs = model(features).squeeze()  \n",
    "\n",
    "        predictions = (outputs > 0.5).float()\n",
    "\n",
    "        labels = labels.float().squeeze() \n",
    "\n",
    "        metric.update(predictions, labels.int())\n",
    "\n",
    "    acc = metric.compute()\n",
    "\n",
    "print(f\"Accuracy on test data: {acc:.4f}\")"
   ]
  }
 ],
 "metadata": {
  "kernelspec": {
   "display_name": "Python (myenv)",
   "language": "python",
   "name": "myenv"
  },
  "language_info": {
   "codemirror_mode": {
    "name": "ipython",
    "version": 3
   },
   "file_extension": ".py",
   "mimetype": "text/x-python",
   "name": "python",
   "nbconvert_exporter": "python",
   "pygments_lexer": "ipython3",
   "version": "3.12.3"
  }
 },
 "nbformat": 4,
 "nbformat_minor": 2
}
